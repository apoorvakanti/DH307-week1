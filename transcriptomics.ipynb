{
  "nbformat": 4,
  "nbformat_minor": 0,
  "metadata": {
    "colab": {
      "provenance": [],
      "machine_shape": "hm"
    },
    "kernelspec": {
      "name": "python3",
      "display_name": "Python 3"
    },
    "language_info": {
      "name": "python"
    }
  },
  "cells": [
    {
      "cell_type": "code",
      "execution_count": 1,
      "metadata": {
        "id": "5EULux1SRdg7"
      },
      "outputs": [],
      "source": [
        "import matplotlib.pyplot as plt\n",
        "import numpy as np\n",
        "import pandas as pd\n",
        "import seaborn as sns\n",
        "import seaborn.objects as so"
      ]
    },
    {
      "cell_type": "code",
      "source": [
        "from google.colab import drive\n",
        "drive.mount('/content/drive')"
      ],
      "metadata": {
        "colab": {
          "base_uri": "https://localhost:8080/"
        },
        "id": "_i9upflEKS9L",
        "outputId": "e608fd59-4c75-4c17-d16e-1cce0bae8043"
      },
      "execution_count": 2,
      "outputs": [
        {
          "output_type": "stream",
          "name": "stdout",
          "text": [
            "Mounted at /content/drive\n"
          ]
        }
      ]
    },
    {
      "cell_type": "code",
      "source": [
        "df = pd.read_csv('/content/drive/My Drive/Transcriptonics/GSE48350_METADATA.csv')"
      ],
      "metadata": {
        "id": "kPDvysFAS0UA"
      },
      "execution_count": 3,
      "outputs": []
    },
    {
      "cell_type": "code",
      "source": [
        "print(df.to_string())"
      ],
      "metadata": {
        "colab": {
          "base_uri": "https://localhost:8080/"
        },
        "id": "yCiDhoOWT7L9",
        "outputId": "3a4a62a2-5058-4430-f325-b375f7c89255"
      },
      "execution_count": 4,
      "outputs": [
        {
          "output_type": "stream",
          "name": "stdout",
          "text": [
            "      accession sampleId                                      title                                       sourceName  gender  age  groupI  groupII\n",
            "0     GSM300166       S1      PostcentralGyrus_female_91yrs_indiv10       brain, postcentral gyrus, female, 91 years       1   91       0      NaN\n",
            "1     GSM300167       S2  SuperiorFrontalGyrus_female_91yrs_indiv10  brain, superior frontal gyrus, female, 91 years       1   91       0      NaN\n",
            "2     GSM300168       S3          Hippocampus_female_96yrs_indiv105             brain, hippocampus, female, 96 years       1   96       0      NaN\n",
            "3     GSM300169       S4            Hippocampus_male_82yrs_indiv106               brain, hippocampus, male, 82 years       0   82       0      NaN\n",
            "4     GSM300170       S5            Hippocampus_male_84yrs_indiv108               brain, hippocampus, male, 84 years       0   84       0      NaN\n",
            "5     GSM300171       S6          Hippocampus_female_87yrs_indiv109             brain, hippocampus, female, 87 years       1   87       0      NaN\n",
            "6     GSM300172       S7          Hippocampus_female_82yrs_indiv111             brain, hippocampus, female, 82 years       1   82       0      NaN\n",
            "7     GSM300173       S8        EntorhinalCortex_male_45yrs_indiv12         brain, entorhinal cortex, male, 45 years       0   45       0      NaN\n",
            "8     GSM300174       S9             Hippocampus_male_45yrs_indiv12               brain, hippocampus, male, 45 years       0   45       0      NaN\n",
            "9     GSM300175      S10        PostcentralGyrus_male_45yrs_indiv12         brain, postcentral gyrus, male, 45 years       0   45       0      NaN\n",
            "10    GSM300176      S11    SuperiorFrontalGyrus_male_45yrs_indiv12    brain, superior frontal gyrus, male, 45 years       0   45       0      NaN\n",
            "11    GSM300177      S12        EntorhinalCortex_male_95yrs_indiv14         brain, entorhinal cortex, male, 95 years       0   95       0      NaN\n",
            "12    GSM300178      S13             Hippocampus_male_95yrs_indiv14               brain, hippocampus, male, 95 years       0   95       0      NaN\n",
            "13    GSM300179      S14        PostcentralGyrus_male_95yrs_indiv14         brain, postcentral gyrus, male, 95 years       0   95       0      NaN\n",
            "14    GSM300180      S15    SuperiorFrontalGyrus_male_95yrs_indiv14    brain, superior frontal gyrus, male, 95 years       0   95       0      NaN\n",
            "15    GSM300181      S16        EntorhinalCortex_male_80yrs_indiv15         brain, entorhinal cortex, male, 80 years       0   80       0      NaN\n",
            "16    GSM300182      S17             Hippocampus_male_80yrs_indiv15               brain, hippocampus, male, 80 years       0   80       0      NaN\n",
            "17    GSM300183      S18        PostcentralGyrus_male_80yrs_indiv15         brain, postcentral gyrus, male, 80 years       0   80       0      NaN\n",
            "18    GSM300185      S19          Hippocampus_male_91yrs_indiv16-07               brain, hippocampus, male, 91 years       0   91       0      NaN\n",
            "19    GSM300186      S20      EntorhinalCortex_female_45yrs_indiv17       brain, entorhinal cortex, female, 45 years       1   45       0      NaN\n",
            "20    GSM300187      S21           Hippocampus_female_45yrs_indiv17             brain, hippocampus, female, 45 years       1   45       0      NaN\n",
            "21    GSM300188      S22  SuperiorFrontalGyrus_female_45yrs_indiv17  brain, superior frontal gyrus, female, 45 years       1   45       0      NaN\n",
            "22    GSM300189      S23      EntorhinalCortex_female_74yrs_indiv18       brain, entorhinal cortex, female, 74 years       1   74       0      NaN\n",
            "23    GSM300190      S24           Hippocampus_female_74yrs_indiv18             brain, hippocampus, female, 74 years       1   74       0      NaN\n",
            "24    GSM300191      S25  SuperiorFrontalGyrus_female_74yrs_indiv18  brain, superior frontal gyrus, female, 74 years       1   74       0      NaN\n",
            "25    GSM300192      S26       EntorhinalCortex_female_99yrs_indiv2       brain, entorhinal cortex, female, 99 years       1   99       0      NaN\n",
            "26    GSM300193      S27            Hippocampus_female_99yrs_indiv2             brain, hippocampus, female, 99 years       1   99       0      NaN\n",
            "27    GSM300194      S28       PostcentralGyrus_female_99yrs_indiv2       brain, postcentral gyrus, female, 99 years       1   99       0      NaN\n",
            "28    GSM300195      S29   SuperiorFrontalGyrus_female_99yrs_indiv2  brain, superior frontal gyrus, female, 99 years       1   99       0      NaN\n",
            "29    GSM300196      S30      EntorhinalCortex_female_74yrs_indiv21       brain, entorhinal cortex, female, 74 years       1   74       0      NaN\n",
            "30    GSM300197      S31           Hippocampus_female_74yrs_indiv21             brain, hippocampus, female, 74 years       1   74       0      NaN\n",
            "31    GSM300198      S32      PostcentralGyrus_female_74yrs_indiv21       brain, postcentral gyrus, female, 74 years       1   74       0      NaN\n",
            "32    GSM300199      S33  SuperiorFrontalGyrus_female_74yrs_indiv21  brain, superior frontal gyrus, female, 74 years       1   74       0      NaN\n",
            "33    GSM300200      S34      PostcentralGyrus_female_92yrs_indiv26       brain, postcentral gyrus, female, 92 years       1   92       0      NaN\n",
            "34    GSM300201      S35  SuperiorFrontalGyrus_female_92yrs_indiv26  brain, superior frontal gyrus, female, 92 years       1   92       0      NaN\n",
            "35    GSM300202      S36      PostcentralGyrus_female_91yrs_indiv27       brain, postcentral gyrus, female, 91 years       1   91       0      NaN\n",
            "36    GSM300203      S37  SuperiorFrontalGyrus_female_91yrs_indiv27  brain, superior frontal gyrus, female, 91 years       1   91       0      NaN\n",
            "37    GSM300204      S38        EntorhinalCortex_male_83yrs_indiv28         brain, entorhinal cortex, male, 83 years       0   83       0      NaN\n",
            "38    GSM300205      S39             Hippocampus_male_83yrs_indiv28               brain, hippocampus, male, 83 years       0   83       0      NaN\n",
            "39    GSM300206      S40        PostcentralGyrus_male_83yrs_indiv28         brain, postcentral gyrus, male, 83 years       0   83       0      NaN\n",
            "40    GSM300207      S41    SuperiorFrontalGyrus_male_83yrs_indiv28    brain, superior frontal gyrus, male, 83 years       0   83       0      NaN\n",
            "41    GSM300208      S42        EntorhinalCortex_male_28yrs_indiv29         brain, entorhinal cortex, male, 28 years       0   28       0      NaN\n",
            "42    GSM300209      S43             Hippocampus_male_28yrs_indiv29               brain, hippocampus, male, 28 years       0   28       0      NaN\n",
            "43    GSM300210      S44        PostcentralGyrus_male_28yrs_indiv29         brain, postcentral gyrus, male, 28 years       0   28       0      NaN\n",
            "44    GSM300211      S45    SuperiorFrontalGyrus_male_28yrs_indiv29    brain, superior frontal gyrus, male, 28 years       0   28       0      NaN\n",
            "45    GSM300212      S46      PostcentralGyrus_female_74yrs_indiv30       brain, postcentral gyrus, female, 74 years       1   74       0      NaN\n",
            "46    GSM300213      S47  SuperiorFrontalGyrus_female_74yrs_indiv30  brain, superior frontal gyrus, female, 74 years       1   74       0      NaN\n",
            "47    GSM300214      S48        EntorhinalCortex_male_97yrs_indiv34         brain, entorhinal cortex, male, 97 years       0   97       0      NaN\n",
            "48    GSM300215      S49             Hippocampus_male_97yrs_indiv34               brain, hippocampus, male, 97 years       0   97       0      NaN\n",
            "49    GSM300216      S50        PostcentralGyrus_male_97yrs_indiv34         brain, postcentral gyrus, male, 97 years       0   97       0      NaN\n",
            "50    GSM300217      S51    SuperiorFrontalGyrus_male_97yrs_indiv34    brain, superior frontal gyrus, male, 97 years       0   97       0      NaN\n",
            "51    GSM300218      S52      EntorhinalCortex_female_34yrs_indiv35       brain, entorhinal cortex, female, 34 years       1   34       0      NaN\n",
            "52    GSM300219      S53           Hippocampus_female_34yrs_indiv35             brain, hippocampus, female, 34 years       1   34       0      NaN\n",
            "53    GSM300220      S54      PostcentralGyrus_female_34yrs_indiv35       brain, postcentral gyrus, female, 34 years       1   34       0      NaN\n",
            "54    GSM300221      S55  SuperiorFrontalGyrus_female_34yrs_indiv35  brain, superior frontal gyrus, female, 34 years       1   34       0      NaN\n",
            "55    GSM300222      S56      EntorhinalCortex_female_74yrs_indiv38       brain, entorhinal cortex, female, 74 years       1   74       0      NaN\n",
            "56    GSM300223      S57           Hippocampus_female_74yrs_indiv38             brain, hippocampus, female, 74 years       1   74       0      NaN\n",
            "57    GSM300224      S58      PostcentralGyrus_female_74yrs_indiv38       brain, postcentral gyrus, female, 74 years       1   74       0      NaN\n",
            "58    GSM300225      S59  SuperiorFrontalGyrus_female_74yrs_indiv38  brain, superior frontal gyrus, female, 74 years       1   74       0      NaN\n",
            "59    GSM300226      S60      PostcentralGyrus_female_90yrs_indiv40       brain, postcentral gyrus, female, 90 years       1   90       0      NaN\n",
            "60    GSM300227      S61        Hippocampus_female_91yrs_indiv40-04             brain, hippocampus, female, 91 years       1   91       0      NaN\n",
            "61    GSM300228      S62      EntorhinalCortex_female_44yrs_indiv42       brain, entorhinal cortex, female, 44 years       1   44       0      NaN\n",
            "62    GSM300229      S63  SuperiorFrontalGyrus_female_44yrs_indiv42  brain, superior frontal gyrus, female, 44 years       1   44       0      NaN\n",
            "63    GSM300230      S64      EntorhinalCortex_female_37yrs_indiv45       brain, entorhinal cortex, female, 37 years       1   37       0      NaN\n",
            "64    GSM300231      S65           Hippocampus_female_37yrs_indiv45             brain, hippocampus, female, 37 years       1   37       0      NaN\n",
            "65    GSM300232      S66      PostcentralGyrus_female_37yrs_indiv45       brain, postcentral gyrus, female, 37 years       1   37       0      NaN\n",
            "66    GSM300233      S67  SuperiorFrontalGyrus_female_37yrs_indiv45  brain, superior frontal gyrus, female, 37 years       1   37       0      NaN\n",
            "67    GSM300234      S68        EntorhinalCortex_male_85yrs_indiv46         brain, entorhinal cortex, male, 85 years       0   85       0      NaN\n",
            "68    GSM300235      S69             Hippocampus_male_85yrs_indiv46               brain, hippocampus, male, 85 years       0   85       0      NaN\n",
            "69    GSM300236      S70        PostcentralGyrus_male_85yrs_indiv46         brain, postcentral gyrus, male, 85 years       0   85       0      NaN\n",
            "70    GSM300237      S71    SuperiorFrontalGyrus_male_85yrs_indiv46    brain, superior frontal gyrus, male, 85 years       0   85       0      NaN\n",
            "71    GSM300238      S72      EntorhinalCortex_female_70yrs_indiv47       brain, entorhinal cortex, female, 70 years       1   70       0      NaN\n",
            "72    GSM300239      S73           Hippocampus_female_70yrs_indiv47             brain, hippocampus, female, 70 years       1   70       0      NaN\n",
            "73    GSM300240      S74      PostcentralGyrus_female_70yrs_indiv47       brain, postcentral gyrus, female, 70 years       1   70       0      NaN\n",
            "74    GSM300241      S75  SuperiorFrontalGyrus_female_70yrs_indiv47  brain, superior frontal gyrus, female, 70 years       1   70       0      NaN\n",
            "75    GSM300242      S76      EntorhinalCortex_female_64yrs_indiv52       brain, entorhinal cortex, female, 64 years       1   64       0      NaN\n",
            "76    GSM300243      S77           Hippocampus_female_64yrs_indiv52             brain, hippocampus, female, 64 years       1   64       0      NaN\n",
            "77    GSM300244      S78      PostcentralGyrus_female_64yrs_indiv52       brain, postcentral gyrus, female, 64 years       1   64       0      NaN\n",
            "78    GSM300245      S79  SuperiorFrontalGyrus_female_64yrs_indiv52  brain, superior frontal gyrus, female, 64 years       1   64       0      NaN\n",
            "79    GSM300246      S80        PostcentralGyrus_male_70yrs_indiv53         brain, postcentral gyrus, male, 70 years       0   70       0      NaN\n",
            "80    GSM300247      S81    SuperiorFrontalGyrus_male_70yrs_indiv53    brain, superior frontal gyrus, male, 70 years       0   70       0      NaN\n",
            "81    GSM300248      S82      EntorhinalCortex_female_85yrs_indiv54       brain, entorhinal cortex, female, 85 years       1   85       0      NaN\n",
            "82    GSM300249      S83      PostcentralGyrus_female_85yrs_indiv54       brain, postcentral gyrus, female, 85 years       1   85       0      NaN\n",
            "83    GSM300250      S84  SuperiorFrontalGyrus_female_85yrs_indiv54  brain, superior frontal gyrus, female, 85 years       1   85       0      NaN\n",
            "84    GSM300251      S85  SuperiorFrontalGyrus_female_91yrs_indiv59  brain, superior frontal gyrus, female, 91 years       1   91       0      NaN\n",
            "85    GSM300252      S86        EntorhinalCortex_male_21yrs_indiv66         brain, entorhinal cortex, male, 21 years       0   21       0      NaN\n",
            "86    GSM300253      S87        PostcentralGyrus_male_21yrs_indiv66         brain, postcentral gyrus, male, 21 years       0   21       0      NaN\n",
            "87    GSM300254      S88    SuperiorFrontalGyrus_male_21yrs_indiv66    brain, superior frontal gyrus, male, 21 years       0   21       0      NaN\n",
            "88    GSM300255      S89             Hippocampus_male_69yrs_indiv67               brain, hippocampus, male, 69 years       0   69       0      NaN\n",
            "89    GSM300256      S90        PostcentralGyrus_male_69yrs_indiv67         brain, postcentral gyrus, male, 69 years       0   69       0      NaN\n",
            "90    GSM300258      S91        EntorhinalCortex_male_40yrs_indiv68         brain, entorhinal cortex, male, 40 years       0   40       0      NaN\n",
            "91    GSM300259      S92        PostcentralGyrus_male_40yrs_indiv68         brain, postcentral gyrus, male, 40 years       0   40       0      NaN\n",
            "92    GSM300260      S93    SuperiorFrontalGyrus_male_40yrs_indiv68    brain, superior frontal gyrus, male, 40 years       0   40       0      NaN\n",
            "93    GSM300261      S94        EntorhinalCortex_male_52yrs_indiv71         brain, entorhinal cortex, male, 52 years       0   52       0      NaN\n",
            "94    GSM300262      S95             Hippocampus_male_52yrs_indiv71               brain, hippocampus, male, 52 years       0   52       0      NaN\n",
            "95    GSM300263      S96        PostcentralGyrus_male_52yrs_indiv71         brain, postcentral gyrus, male, 52 years       0   52       0      NaN\n",
            "96    GSM300264      S97    SuperiorFrontalGyrus_male_52yrs_indiv71    brain, superior frontal gyrus, male, 52 years       0   52       0      NaN\n",
            "97    GSM300265      S98        PostcentralGyrus_male_75yrs_indiv72         brain, postcentral gyrus, male, 75 years       0   75       0      NaN\n",
            "98    GSM300266      S99    SuperiorFrontalGyrus_male_75yrs_indiv72    brain, superior frontal gyrus, male, 75 years       0   75       0      NaN\n",
            "99    GSM300267     S100        EntorhinalCortex_male_86yrs_indiv73         brain, entorhinal cortex, male, 86 years       0   86       0      NaN\n",
            "100   GSM300268     S101             Hippocampus_male_86yrs_indiv73               brain, hippocampus, male, 86 years       0   86       0      NaN\n",
            "101   GSM300269     S102        PostcentralGyrus_male_86yrs_indiv73         brain, postcentral gyrus, male, 86 years       0   86       0      NaN\n",
            "102   GSM300270     S103    SuperiorFrontalGyrus_male_86yrs_indiv73    brain, superior frontal gyrus, male, 86 years       0   86       0      NaN\n",
            "103   GSM300271     S104      EntorhinalCortex_female_26yrs_indiv76       brain, entorhinal cortex, female, 26 years       1   26       0      NaN\n",
            "104   GSM300272     S105           Hippocampus_female_26yrs_indiv76             brain, hippocampus, female, 26 years       1   26       0      NaN\n",
            "105   GSM300273     S106      PostcentralGyrus_female_26yrs_indiv76       brain, postcentral gyrus, female, 26 years       1   26       0      NaN\n",
            "106   GSM300274     S107  SuperiorFrontalGyrus_female_26yrs_indiv76  brain, superior frontal gyrus, female, 26 years       1   26       0      NaN\n",
            "107   GSM300275     S108        EntorhinalCortex_male_20yrs_indiv77         brain, entorhinal cortex, male, 20 years       0   20       0      NaN\n",
            "108   GSM300276     S109             Hippocampus_male_20yrs_indiv77               brain, hippocampus, male, 20 years       0   20       0      NaN\n",
            "109   GSM300277     S110        PostcentralGyrus_male_20yrs_indiv77         brain, postcentral gyrus, male, 20 years       0   20       0      NaN\n",
            "110   GSM300278     S111    SuperiorFrontalGyrus_male_20yrs_indiv77    brain, superior frontal gyrus, male, 20 years       0   20       0      NaN\n",
            "111   GSM300279     S112        EntorhinalCortex_male_20yrs_indiv78         brain, entorhinal cortex, male, 20 years       0   20       0      NaN\n",
            "112   GSM300280     S113             Hippocampus_male_20yrs_indiv78               brain, hippocampus, male, 20 years       0   20       0      NaN\n",
            "113   GSM300281     S114        PostcentralGyrus_male_20yrs_indiv78         brain, postcentral gyrus, male, 20 years       0   20       0      NaN\n",
            "114   GSM300282     S115    SuperiorFrontalGyrus_male_20yrs_indiv78    brain, superior frontal gyrus, male, 20 years       0   20       0      NaN\n",
            "115   GSM300283     S116      PostcentralGyrus_female_36yrs_indiv79       brain, postcentral gyrus, female, 36 years       1   36       0      NaN\n",
            "116   GSM300284     S117  SuperiorFrontalGyrus_female_36yrs_indiv79  brain, superior frontal gyrus, female, 36 years       1   36       0      NaN\n",
            "117   GSM300285     S118         EntorhinalCortex_male_69yrs_indiv8         brain, entorhinal cortex, male, 69 years       0   69       0      NaN\n",
            "118   GSM300286     S119              Hippocampus_male_69yrs_indiv8               brain, hippocampus, male, 69 years       0   69       0      NaN\n",
            "119   GSM300287     S120         PostcentralGyrus_male_69yrs_indiv8         brain, postcentral gyrus, male, 69 years       0   69       0      NaN\n",
            "120   GSM300288     S121     SuperiorFrontalGyrus_male_69yrs_indiv8    brain, superior frontal gyrus, male, 69 years       0   69       0      NaN\n",
            "121   GSM300289     S122      EntorhinalCortex_female_44yrs_indiv80       brain, entorhinal cortex, female, 44 years       1   44       0      NaN\n",
            "122   GSM300290     S123           Hippocampus_female_44yrs_indiv80             brain, hippocampus, female, 44 years       1   44       0      NaN\n",
            "123   GSM300291     S124      PostcentralGyrus_female_44yrs_indiv80       brain, postcentral gyrus, female, 44 years       1   44       0      NaN\n",
            "124   GSM300292     S125  SuperiorFrontalGyrus_female_44yrs_indiv80  brain, superior frontal gyrus, female, 44 years       1   44       0      NaN\n",
            "125   GSM300293     S126      EntorhinalCortex_female_48yrs_indiv81       brain, entorhinal cortex, female, 48 years       1   48       0      NaN\n",
            "126   GSM300294     S127           Hippocampus_female_48yrs_indiv81             brain, hippocampus, female, 48 years       1   48       0      NaN\n",
            "127   GSM300295     S128      PostcentralGyrus_female_48yrs_indiv81       brain, postcentral gyrus, female, 48 years       1   48       0      NaN\n",
            "128   GSM300296     S129  SuperiorFrontalGyrus_female_48yrs_indiv81  brain, superior frontal gyrus, female, 48 years       1   48       0      NaN\n",
            "129   GSM300297     S130      EntorhinalCortex_female_30yrs_indiv82       brain, entorhinal cortex, female, 30 years       1   30       0      NaN\n",
            "130   GSM300298     S131           Hippocampus_female_30yrs_indiv82             brain, hippocampus, female, 30 years       1   30       0      NaN\n",
            "131   GSM300299     S132  SuperiorFrontalGyrus_female_30yrs_indiv82  brain, superior frontal gyrus, female, 30 years       1   30       0      NaN\n",
            "132   GSM300300     S133        EntorhinalCortex_male_20yrs_indiv83         brain, entorhinal cortex, male, 20 years       0   20       0      NaN\n",
            "133   GSM300301     S134             Hippocampus_male_20yrs_indiv83               brain, hippocampus, male, 20 years       0   20       0      NaN\n",
            "134   GSM300302     S135        PostcentralGyrus_male_20yrs_indiv83         brain, postcentral gyrus, male, 20 years       0   20       0      NaN\n",
            "135   GSM300303     S136    SuperiorFrontalGyrus_male_20yrs_indiv83    brain, superior frontal gyrus, male, 20 years       0   20       0      NaN\n",
            "136   GSM300304     S137        EntorhinalCortex_male_33yrs_indiv84         brain, entorhinal cortex, male, 33 years       0   33       0      NaN\n",
            "137   GSM300305     S138             Hippocampus_male_33yrs_indiv84               brain, hippocampus, male, 33 years       0   33       0      NaN\n",
            "138   GSM300306     S139        PostcentralGyrus_male_33yrs_indiv84         brain, postcentral gyrus, male, 33 years       0   33       0      NaN\n",
            "139   GSM300307     S140    SuperiorFrontalGyrus_male_33yrs_indiv84    brain, superior frontal gyrus, male, 33 years       0   33       0      NaN\n",
            "140   GSM300308     S141        EntorhinalCortex_male_22yrs_indiv85         brain, entorhinal cortex, male, 22 years       0   22       0      NaN\n",
            "141   GSM300309     S142             Hippocampus_male_22yrs_indiv85               brain, hippocampus, male, 22 years       0   22       0      NaN\n",
            "142   GSM300310     S143        PostcentralGyrus_male_22yrs_indiv85         brain, postcentral gyrus, male, 22 years       0   22       0      NaN\n",
            "143   GSM300311     S144    SuperiorFrontalGyrus_male_22yrs_indiv85    brain, superior frontal gyrus, male, 22 years       0   22       0      NaN\n",
            "144   GSM300312     S145        EntorhinalCortex_male_42yrs_indiv86         brain, entorhinal cortex, male, 42 years       0   42       0      NaN\n",
            "145   GSM300313     S146             Hippocampus_male_42yrs_indiv86               brain, hippocampus, male, 42 years       0   42       0      NaN\n",
            "146   GSM300314     S147        PostcentralGyrus_male_42yrs_indiv86         brain, postcentral gyrus, male, 42 years       0   42       0      NaN\n",
            "147   GSM300315     S148    SuperiorFrontalGyrus_male_42yrs_indiv86    brain, superior frontal gyrus, male, 42 years       0   42       0      NaN\n",
            "148   GSM300316     S149        EntorhinalCortex_male_45yrs_indiv87         brain, entorhinal cortex, male, 45 years       0   45       0      NaN\n",
            "149   GSM300317     S150             Hippocampus_male_45yrs_indiv87               brain, hippocampus, male, 45 years       0   45       0      NaN\n",
            "150   GSM300318     S151        PostcentralGyrus_male_45yrs_indiv87         brain, postcentral gyrus, male, 45 years       0   45       0      NaN\n",
            "151   GSM300319     S152    SuperiorFrontalGyrus_male_45yrs_indiv87    brain, superior frontal gyrus, male, 45 years       0   45       0      NaN\n",
            "152   GSM300320     S153      EntorhinalCortex_female_47yrs_indiv88       brain, entorhinal cortex, female, 47 years       1   47       0      NaN\n",
            "153   GSM300321     S154           Hippocampus_female_47yrs_indiv88             brain, hippocampus, female, 47 years       1   47       0      NaN\n",
            "154   GSM300322     S155      PostcentralGyrus_female_47yrs_indiv88       brain, postcentral gyrus, female, 47 years       1   47       0      NaN\n",
            "155   GSM300323     S156  SuperiorFrontalGyrus_female_47yrs_indiv88  brain, superior frontal gyrus, female, 47 years       1   47       0      NaN\n",
            "156   GSM300324     S157        EntorhinalCortex_male_69yrs_indiv93         brain, entorhinal cortex, male, 69 years       0   69       0      NaN\n",
            "157   GSM300325     S158             Hippocampus_male_69yrs_indiv93               brain, hippocampus, male, 69 years       0   69       0      NaN\n",
            "158   GSM300326     S159        PostcentralGyrus_male_69yrs_indiv93         brain, postcentral gyrus, male, 69 years       0   69       0      NaN\n",
            "159   GSM300327     S160    SuperiorFrontalGyrus_male_69yrs_indiv93    brain, superior frontal gyrus, male, 69 years       0   69       0      NaN\n",
            "160   GSM300328     S161      EntorhinalCortex_female_91yrs_indiv94       brain, entorhinal cortex, female, 91 years       1   91       0      NaN\n",
            "161   GSM300329     S162           Hippocampus_female_91yrs_indiv94             brain, hippocampus, female, 91 years       1   91       0      NaN\n",
            "162   GSM300330     S163      PostcentralGyrus_female_91yrs_indiv94       brain, postcentral gyrus, female, 91 years       1   91       0      NaN\n",
            "163   GSM300331     S164  SuperiorFrontalGyrus_female_91yrs_indiv94  brain, superior frontal gyrus, female, 91 years       1   91       0      NaN\n",
            "164   GSM300332     S165        EntorhinalCortex_male_75yrs_indiv96         brain, entorhinal cortex, male, 75 years       0   75       0      NaN\n",
            "165   GSM300333     S166             Hippocampus_male_75yrs_indiv96               brain, hippocampus, male, 75 years       0   75       0      NaN\n",
            "166   GSM300335     S167    SuperiorFrontalGyrus_male_75yrs_indiv96    brain, superior frontal gyrus, male, 75 years       0   75       0      NaN\n",
            "167   GSM300338     S168      EntorhinalCortex_female_82yrs_indiv98       brain, entorhinal cortex, female, 82 years       1   82       0      NaN\n",
            "168   GSM300339     S169           Hippocampus_female_82yrs_indiv98             brain, hippocampus, female, 82 years       1   82       0      NaN\n",
            "169   GSM300340     S170      PostcentralGyrus_female_82yrs_indiv98       brain, postcentral gyrus, female, 82 years       1   82       0      NaN\n",
            "170   GSM300341     S171  SuperiorFrontalGyrus_female_82yrs_indiv98  brain, superior frontal gyrus, female, 82 years       1   82       0      NaN\n",
            "171   GSM318840     S172    SuperiorFrontalGyrus_male_66yrs_indiv63    brain, superior frontal gyrus, male, 66 years       0   66       0      NaN\n",
            "172   GSM350078     S173    SuperiorFrontalGyrus_male_80yrs_indiv15    brain, superior frontal gyrus, male, 80 years       0   80       0      NaN\n",
            "173  GSM1176196     S174          entorhinal cortex_female_76_AD_48                      entorhinal cortex_female_AD       1   76       1      NaN\n",
            "174  GSM1176197     S175          entorhinal cortex_female_86_AD_15                      entorhinal cortex_female_AD       1   86       1      NaN\n",
            "175  GSM1176198     S176           entorhinal cortex_female_82_AD_9                      entorhinal cortex_female_AD       1   82       1      NaN\n",
            "176  GSM1176199     S177          entorhinal cortex_female_85_AD_24                      entorhinal cortex_female_AD       1   85       1      NaN\n",
            "177  GSM1176200     S178          entorhinal cortex_female_90_AD_36                      entorhinal cortex_female_AD       1   90       1      NaN\n",
            "178  GSM1176201     S179           entorhinal cortex_female_90_AD_6                      entorhinal cortex_female_AD       1   90       1      NaN\n",
            "179  GSM1176202     S180          entorhinal cortex_female_90_AD_75                      entorhinal cortex_female_AD       1   90       1      NaN\n",
            "180  GSM1176203     S181          entorhinal cortex_female_91_AD_11                      entorhinal cortex_female_AD       1   91       1      NaN\n",
            "181  GSM1176204     S182            entorhinal cortex_male_76_AD_69                        entorhinal cortex_male_AD       0   76       1      NaN\n",
            "182  GSM1176205     S183            entorhinal cortex_male_85_AD_51                        entorhinal cortex_male_AD       0   85       1      NaN\n",
            "183  GSM1176206     S184            entorhinal cortex_male_85_AD_74                        entorhinal cortex_male_AD       0   85       1      NaN\n",
            "184  GSM1176207     S185            entorhinal cortex_male_86_AD_92                        entorhinal cortex_male_AD       0   86       1      NaN\n",
            "185  GSM1176208     S186            entorhinal cortex_male_87_AD_19                        entorhinal cortex_male_AD       0   87       1      NaN\n",
            "186  GSM1176209     S187             entorhinal cortex_male_94_AD_5                        entorhinal cortex_male_AD       0   94       1      NaN\n",
            "187  GSM1176210     S188            entorhinal cortex_male_94_AD_90                        entorhinal cortex_male_AD       0   94       1      NaN\n",
            "188  GSM1176211     S189                hippocampus_female_60_AD_20                            hippocampus_female_AD       1   60       1      NaN\n",
            "189  GSM1176212     S190                hippocampus_female_74_AD_37                            hippocampus_female_AD       1   74       1      NaN\n",
            "190  GSM1176213     S191                hippocampus_female_76_AD_48                            hippocampus_female_AD       1   76       1      NaN\n",
            "191  GSM1176214     S192                hippocampus_female_79_AD_16                            hippocampus_female_AD       1   79       1      NaN\n",
            "192  GSM1176215     S193                hippocampus_female_86_AD_15                            hippocampus_female_AD       1   86       1      NaN\n",
            "193  GSM1176216     S194                hippocampus_female_85_AD_24                            hippocampus_female_AD       1   85       1      NaN\n",
            "194  GSM1176217     S195                hippocampus_female_90_AD_23                            hippocampus_female_AD       1   90       1      NaN\n",
            "195  GSM1176218     S196                hippocampus_female_90_AD_36                            hippocampus_female_AD       1   90       1      NaN\n",
            "196  GSM1176219     S197                hippocampus_female_90_AD_75                            hippocampus_female_AD       1   90       1      NaN\n",
            "197  GSM1176220     S198                hippocampus_female_91_AD_11                            hippocampus_female_AD       1   91       1      NaN\n",
            "198  GSM1176221     S199                  hippocampus_male_76_AD_33                              hippocampus_male_AD       0   76       1      NaN\n",
            "199  GSM1176222     S200                  hippocampus_male_76_AD_69                              hippocampus_male_AD       0   76       1      NaN\n",
            "200  GSM1176223     S201                   hippocampus_male_79_AD_7                              hippocampus_male_AD       0   79       1      NaN\n",
            "201  GSM1176224     S202                  hippocampus_male_80_AD_43                              hippocampus_male_AD       0   80       1      NaN\n",
            "202  GSM1176225     S203                  hippocampus_male_85_AD_51                              hippocampus_male_AD       0   85       1      NaN\n",
            "203  GSM1176226     S204                  hippocampus_male_86_AD_92                              hippocampus_male_AD       0   86       1      NaN\n",
            "204  GSM1176227     S205                  hippocampus_male_87_AD_19                              hippocampus_male_AD       0   87       1      NaN\n",
            "205  GSM1176228     S206                   hippocampus_male_94_AD_5                              hippocampus_male_AD       0   94       1      NaN\n",
            "206  GSM1176229     S207                  hippocampus_male_94_AD_90                              hippocampus_male_AD       0   94       1      NaN\n",
            "207  GSM1176230     S208         post-central gyrus_female_60_AD_20                     post-central gyrus_female_AD       1   60       1      NaN\n",
            "208  GSM1176231     S209         post-central gyrus_female_74_AD_37                     post-central gyrus_female_AD       1   74       1      NaN\n",
            "209  GSM1176232     S210         post-central gyrus_female_76_AD_48                     post-central gyrus_female_AD       1   76       1      NaN\n",
            "210  GSM1176233     S211         post-central gyrus_female_86_AD_15                     post-central gyrus_female_AD       1   86       1      NaN\n",
            "211  GSM1176234     S212         post-central gyrus_female_82_AD_13                     post-central gyrus_female_AD       1   82       1      NaN\n",
            "212  GSM1176235     S213          post-central gyrus_female_82_AD_9                     post-central gyrus_female_AD       1   82       1      NaN\n",
            "213  GSM1176236     S214         post-central gyrus_female_85_AD_24                     post-central gyrus_female_AD       1   85       1      NaN\n",
            "214  GSM1176237     S215         post-central gyrus_female_85_AD_57                     post-central gyrus_female_AD       1   85       1      NaN\n",
            "215  GSM1176238     S216         post-central gyrus_female_90_AD_23                     post-central gyrus_female_AD       1   90       1      NaN\n",
            "216  GSM1176239     S217         post-central gyrus_female_90_AD_36                     post-central gyrus_female_AD       1   90       1      NaN\n",
            "217  GSM1176240     S218          post-central gyrus_female_90_AD_6                     post-central gyrus_female_AD       1   90       1      NaN\n",
            "218  GSM1176241     S219         post-central gyrus_female_90_AD_75                     post-central gyrus_female_AD       1   90       1      NaN\n",
            "219  GSM1176242     S220         post-central gyrus_female_91_AD_11                     post-central gyrus_female_AD       1   91       1      NaN\n",
            "220  GSM1176243     S221         post-central gyrus_female_94_AD_70                     post-central gyrus_female_AD       1   94       1      NaN\n",
            "221  GSM1176244     S222         post-central gyrus_female_95_AD_64                     post-central gyrus_female_AD       1   95       1      NaN\n",
            "222  GSM1176245     S223           post-central gyrus_male_76_AD_33                       post-central gyrus_male_AD       0   76       1      NaN\n",
            "223  GSM1176246     S224           post-central gyrus_male_76_AD_69                       post-central gyrus_male_AD       0   76       1      NaN\n",
            "224  GSM1176247     S225            post-central gyrus_male_79_AD_7                       post-central gyrus_male_AD       0   79       1      NaN\n",
            "225  GSM1176248     S226           post-central gyrus_male_85_AD_51                       post-central gyrus_male_AD       0   85       1      NaN\n",
            "226  GSM1176249     S227           post-central gyrus_male_85_AD_74                       post-central gyrus_male_AD       0   85       1      NaN\n",
            "227  GSM1176250     S228           post-central gyrus_male_86_AD_92                       post-central gyrus_male_AD       0   86       1      NaN\n",
            "228  GSM1176251     S229           post-central gyrus_male_87_AD_19                       post-central gyrus_male_AD       0   87       1      NaN\n",
            "229  GSM1176252     S230           post-central gyrus_male_94_AD_44                       post-central gyrus_male_AD       0   94       1      NaN\n",
            "230  GSM1176253     S231            post-central gyrus_male_94_AD_5                       post-central gyrus_male_AD       0   94       1      NaN\n",
            "231  GSM1176254     S232           post-central gyrus_male_94_AD_90                       post-central gyrus_male_AD       0   94       1      NaN\n",
            "232  GSM1176255     S233     superior frontal gyrus_female_74_AD_37                 superior frontal gyrus_female_AD       1   74       1      NaN\n",
            "233  GSM1176256     S234     superior frontal gyrus_female_76_AD_48                 superior frontal gyrus_female_AD       1   76       1      NaN\n",
            "234  GSM1176257     S235     superior frontal gyrus_female_86_AD_15                 superior frontal gyrus_female_AD       1   86       1      NaN\n",
            "235  GSM1176258     S236      superior frontal gyrus_female_82_AD_9                 superior frontal gyrus_female_AD       1   82       1      NaN\n",
            "236  GSM1176259     S237     superior frontal gyrus_female_85_AD_24                 superior frontal gyrus_female_AD       1   85       1      NaN\n",
            "237  GSM1176260     S238     superior frontal gyrus_female_85_AD_57                 superior frontal gyrus_female_AD       1   85       1      NaN\n",
            "238  GSM1176261     S239     superior frontal gyrus_female_88_AD_91                 superior frontal gyrus_female_AD       1   88       1      NaN\n",
            "239  GSM1176262     S240     superior frontal gyrus_female_90_AD_23                 superior frontal gyrus_female_AD       1   90       1      NaN\n",
            "240  GSM1176263     S241     superior frontal gyrus_female_90_AD_36                 superior frontal gyrus_female_AD       1   90       1      NaN\n",
            "241  GSM1176264     S242      superior frontal gyrus_female_90_AD_6                 superior frontal gyrus_female_AD       1   90       1      NaN\n",
            "242  GSM1176265     S243     superior frontal gyrus_female_90_AD_75                 superior frontal gyrus_female_AD       1   90       1      NaN\n",
            "243  GSM1176266     S244     superior frontal gyrus_female_91_AD_11                 superior frontal gyrus_female_AD       1   91       1      NaN\n",
            "244  GSM1176267     S245     superior frontal gyrus_female_94_AD_70                 superior frontal gyrus_female_AD       1   94       1      NaN\n",
            "245  GSM1176268     S246     superior frontal gyrus_female_95_AD_64                 superior frontal gyrus_female_AD       1   95       1      NaN\n",
            "246  GSM1176269     S247       superior frontal gyrus_male_76_AD_33                   superior frontal gyrus_male_AD       0   76       1      NaN\n",
            "247  GSM1176270     S248       superior frontal gyrus_male_85_AD_51                   superior frontal gyrus_male_AD       0   85       1      NaN\n",
            "248  GSM1176271     S249       superior frontal gyrus_male_85_AD_74                   superior frontal gyrus_male_AD       0   85       1      NaN\n",
            "249  GSM1176272     S250       superior frontal gyrus_male_86_AD_92                   superior frontal gyrus_male_AD       0   86       1      NaN\n",
            "250  GSM1176273     S251       superior frontal gyrus_male_94_AD_44                   superior frontal gyrus_male_AD       0   94       1      NaN\n",
            "251  GSM1176274     S252        superior frontal gyrus_male_94_AD_5                   superior frontal gyrus_male_AD       0   94       1      NaN\n",
            "252  GSM1176275     S253       superior frontal gyrus_male_94_AD_90                   superior frontal gyrus_male_AD       0   94       1      NaN\n"
          ]
        }
      ]
    },
    {
      "cell_type": "code",
      "source": [
        "# from google.colab import drive\n",
        "# drive.mount('/content/drive')"
      ],
      "metadata": {
        "id": "xFgYzdLpPkfq"
      },
      "execution_count": 5,
      "outputs": []
    },
    {
      "cell_type": "code",
      "source": [
        "df.plot()\n",
        "\n",
        "plt.show()"
      ],
      "metadata": {
        "colab": {
          "base_uri": "https://localhost:8080/",
          "height": 430
        },
        "id": "PW3SKBNjU5Ba",
        "outputId": "ee895337-690b-40fb-9ca3-d33798bcb818"
      },
      "execution_count": 6,
      "outputs": [
        {
          "output_type": "display_data",
          "data": {
            "text/plain": [
              "<Figure size 640x480 with 1 Axes>"
            ],
            "image/png": "[encoded data removed]"
          },
          "metadata": {}
        }
      ]
    },
    {
      "cell_type": "code",
      "source": [
        "df[\"gender\"].plot(kind = 'hist')"
      ],
      "metadata": {
        "colab": {
          "base_uri": "https://localhost:8080/",
          "height": 447
        },
        "id": "-sAWfEKLVYxh",
        "outputId": "416e73b0-3f30-42df-e23b-4f4dd2d198ea"
      },
      "execution_count": 7,
      "outputs": [
        {
          "output_type": "execute_result",
          "data": {
            "text/plain": [
              "<Axes: ylabel='Frequency'>"
            ]
          },
          "metadata": {},
          "execution_count": 7
        },
        {
          "output_type": "display_data",
          "data": {
            "text/plain": [
              "<Figure size 640x480 with 1 Axes>"
            ],
            "image/png": "[encoded data removed]"
          },
          "metadata": {}
        }
      ]
    },
    {
      "cell_type": "code",
      "source": [
        "\n",
        "#from google.colab import drive\n",
        "#drive.mount('/content/drive')"
      ],
      "metadata": {
        "id": "HSKFQoTOK4TO"
      },
      "execution_count": 8,
      "outputs": []
    },
    {
      "cell_type": "code",
      "source": [
        "df[\"age\"].plot(kind = 'hist')"
      ],
      "metadata": {
        "colab": {
          "base_uri": "https://localhost:8080/",
          "height": 447
        },
        "id": "q1KPL10QV1J1",
        "outputId": "db024cdd-aad8-42b0-c33b-27f5cff3f1d8"
      },
      "execution_count": 9,
      "outputs": [
        {
          "output_type": "execute_result",
          "data": {
            "text/plain": [
              "<Axes: ylabel='Frequency'>"
            ]
          },
          "metadata": {},
          "execution_count": 9
        },
        {
          "output_type": "display_data",
          "data": {
            "text/plain": [
              "<Figure size 640x480 with 1 Axes>"
            ],
            "image/png": "[encoded data removed]"
          },
          "metadata": {}
        }
      ]
    },
    {
      "cell_type": "code",
      "source": [
        "df1 = pd.read_excel('/content/drive/My Drive/Transcriptonics/GSE48350_Input.xlsx', index_col =\"geneName\")\n",
        "print(df1)"
      ],
      "metadata": {
        "id": "qkw0kxqtayY0"
      },
      "execution_count": null,
      "outputs": []
    },
    {
      "cell_type": "code",
      "source": [
        "%ls"
      ],
      "metadata": {
        "id": "I3lbB00TjkLh",
        "outputId": "e17cadea-3cc3-4574-81cc-03fac976bd0a",
        "colab": {
          "base_uri": "https://localhost:8080/"
        }
      },
      "execution_count": 12,
      "outputs": [
        {
          "output_type": "stream",
          "name": "stdout",
          "text": [
            "\u001b[0m\u001b[01;34mdrive\u001b[0m/  \u001b[01;34msample_data\u001b[0m/\n"
          ]
        }
      ]
    },
    {
      "cell_type": "code",
      "source": [
        "df1.head()"
      ],
      "metadata": {
        "id": "rOA1svEnfM_B",
        "colab": {
          "base_uri": "https://localhost:8080/",
          "height": 287
        },
        "outputId": "726ebee4-7f22-4023-fd5b-da7408169f62"
      },
      "execution_count": 13,
      "outputs": [
        {
          "output_type": "execute_result",
          "data": {
            "text/plain": [
              "               probeId         S1         S2         S3         S4         S5  \\\n",
              "geneName                                                                        \n",
              "ND4          224372_at  14.447004  14.488466  14.359237  14.447004  14.371623   \n",
              "COX2      1553570_x_at  14.342658  14.319904  14.301045  14.311038  14.278164   \n",
              "ATP6      1553567_s_at  14.274753  14.535888  14.169766  14.355387  14.137347   \n",
              "COX1      1553538_s_at  14.131576  14.201428  14.109259  14.207664  14.102998   \n",
              "UBC        211296_x_at  13.724726  13.681150  13.887249  13.771470  13.966789   \n",
              "\n",
              "                 S6         S7         S8         S9  ...       S244  \\\n",
              "geneName                                              ...              \n",
              "ND4       14.309105  14.463468  14.371623  14.427704  ...  14.431147   \n",
              "COX2      14.181809  14.369584  14.274293  14.316735  ...  14.274278   \n",
              "ATP6      14.125699  14.493597  14.127482  14.296700  ...  14.276798   \n",
              "COX1      13.971966  14.338718  13.936151  14.188153  ...  14.066920   \n",
              "UBC       14.064666  13.583540  13.836327  13.844943  ...  13.911063   \n",
              "\n",
              "               S245       S246       S247       S248       S249       S250  \\\n",
              "geneName                                                                     \n",
              "ND4       14.471096  14.476100  14.405654  14.338739  14.477873  14.468459   \n",
              "COX2      14.387093  14.395561  14.318622  14.066148  14.314094  14.201326   \n",
              "ATP6      14.307191  14.399148  14.362724  13.931964  14.291478  14.155846   \n",
              "COX1      14.196323  14.213274  14.180875  13.870975  14.208501  13.761009   \n",
              "UBC       13.706277  13.640640  13.752444  13.908008  13.948781  13.868106   \n",
              "\n",
              "               S251       S252       S253  \n",
              "geneName                                   \n",
              "ND4       14.514001  14.280931  14.481236  \n",
              "COX2      14.315090  14.140118  14.340537  \n",
              "ATP6      14.345779  13.952049  14.342045  \n",
              "COX1      14.111776  13.828361  14.041684  \n",
              "UBC       13.796900  14.052307  13.885401  \n",
              "\n",
              "[5 rows x 254 columns]"
            ],
            "text/html": [
              "\n",
              "  <div id=\"df-93aa63ca-6332-4784-b967-740d127ff457\" class=\"colab-df-container\">\n",
              "    <div>\n",
              "<style scoped>\n",
              "    .dataframe tbody tr th:only-of-type {\n",
              "        vertical-align: middle;\n",
              "    }\n",
              "\n",
              "    .dataframe tbody tr th {\n",
              "        vertical-align: top;\n",
              "    }\n",
              "\n",
              "    .dataframe thead th {\n",
              "        text-align: right;\n",
              "    }\n",
              "</style>\n",
              "<table border=\"1\" class=\"dataframe\">\n",
              "  <thead>\n",
              "    <tr style=\"text-align: right;\">\n",
              "      <th></th>\n",
              "      <th>probeId</th>\n",
              "      <th>S1</th>\n",
              "      <th>S2</th>\n",
              "      <th>S3</th>\n",
              "      <th>S4</th>\n",
              "      <th>S5</th>\n",
              "      <th>S6</th>\n",
              "      <th>S7</th>\n",
              "      <th>S8</th>\n",
              "      <th>S9</th>\n",
              "      <th>...</th>\n",
              "      <th>S244</th>\n",
              "      <th>S245</th>\n",
              "      <th>S246</th>\n",
              "      <th>S247</th>\n",
              "      <th>S248</th>\n",
              "      <th>S249</th>\n",
              "      <th>S250</th>\n",
              "      <th>S251</th>\n",
              "      <th>S252</th>\n",
              "      <th>S253</th>\n",
              "    </tr>\n",
              "    <tr>\n",
              "      <th>geneName</th>\n",
              "      <th></th>\n",
              "      <th></th>\n",
              "      <th></th>\n",
              "      <th></th>\n",
              "      <th></th>\n",
              "      <th></th>\n",
              "      <th></th>\n",
              "      <th></th>\n",
              "      <th></th>\n",
              "      <th></th>\n",
              "      <th></th>\n",
              "      <th></th>\n",
              "      <th></th>\n",
              "      <th></th>\n",
              "      <th></th>\n",
              "      <th></th>\n",
              "      <th></th>\n",
              "      <th></th>\n",
              "      <th></th>\n",
              "      <th></th>\n",
              "      <th></th>\n",
              "    </tr>\n",
              "  </thead>\n",
              "  <tbody>\n",
              "    <tr>\n",
              "      <th>ND4</th>\n",
              "      <td>224372_at</td>\n",
              "      <td>14.447004</td>\n",
              "      <td>14.488466</td>\n",
              "      <td>14.359237</td>\n",
              "      <td>14.447004</td>\n",
              "      <td>14.371623</td>\n",
              "      <td>14.309105</td>\n",
              "      <td>14.463468</td>\n",
              "      <td>14.371623</td>\n",
              "      <td>14.427704</td>\n",
              "      <td>...</td>\n",
              "      <td>14.431147</td>\n",
              "      <td>14.471096</td>\n",
              "      <td>14.476100</td>\n",
              "      <td>14.405654</td>\n",
              "      <td>14.338739</td>\n",
              "      <td>14.477873</td>\n",
              "      <td>14.468459</td>\n",
              "      <td>14.514001</td>\n",
              "      <td>14.280931</td>\n",
              "      <td>14.481236</td>\n",
              "    </tr>\n",
              "    <tr>\n",
              "      <th>COX2</th>\n",
              "      <td>1553570_x_at</td>\n",
              "      <td>14.342658</td>\n",
              "      <td>14.319904</td>\n",
              "      <td>14.301045</td>\n",
              "      <td>14.311038</td>\n",
              "      <td>14.278164</td>\n",
              "      <td>14.181809</td>\n",
              "      <td>14.369584</td>\n",
              "      <td>14.274293</td>\n",
              "      <td>14.316735</td>\n",
              "      <td>...</td>\n",
              "      <td>14.274278</td>\n",
              "      <td>14.387093</td>\n",
              "      <td>14.395561</td>\n",
              "      <td>14.318622</td>\n",
              "      <td>14.066148</td>\n",
              "      <td>14.314094</td>\n",
              "      <td>14.201326</td>\n",
              "      <td>14.315090</td>\n",
              "      <td>14.140118</td>\n",
              "      <td>14.340537</td>\n",
              "    </tr>\n",
              "    <tr>\n",
              "      <th>ATP6</th>\n",
              "      <td>1553567_s_at</td>\n",
              "      <td>14.274753</td>\n",
              "      <td>14.535888</td>\n",
              "      <td>14.169766</td>\n",
              "      <td>14.355387</td>\n",
              "      <td>14.137347</td>\n",
              "      <td>14.125699</td>\n",
              "      <td>14.493597</td>\n",
              "      <td>14.127482</td>\n",
              "      <td>14.296700</td>\n",
              "      <td>...</td>\n",
              "      <td>14.276798</td>\n",
              "      <td>14.307191</td>\n",
              "      <td>14.399148</td>\n",
              "      <td>14.362724</td>\n",
              "      <td>13.931964</td>\n",
              "      <td>14.291478</td>\n",
              "      <td>14.155846</td>\n",
              "      <td>14.345779</td>\n",
              "      <td>13.952049</td>\n",
              "      <td>14.342045</td>\n",
              "    </tr>\n",
              "    <tr>\n",
              "      <th>COX1</th>\n",
              "      <td>1553538_s_at</td>\n",
              "      <td>14.131576</td>\n",
              "      <td>14.201428</td>\n",
              "      <td>14.109259</td>\n",
              "      <td>14.207664</td>\n",
              "      <td>14.102998</td>\n",
              "      <td>13.971966</td>\n",
              "      <td>14.338718</td>\n",
              "      <td>13.936151</td>\n",
              "      <td>14.188153</td>\n",
              "      <td>...</td>\n",
              "      <td>14.066920</td>\n",
              "      <td>14.196323</td>\n",
              "      <td>14.213274</td>\n",
              "      <td>14.180875</td>\n",
              "      <td>13.870975</td>\n",
              "      <td>14.208501</td>\n",
              "      <td>13.761009</td>\n",
              "      <td>14.111776</td>\n",
              "      <td>13.828361</td>\n",
              "      <td>14.041684</td>\n",
              "    </tr>\n",
              "    <tr>\n",
              "      <th>UBC</th>\n",
              "      <td>211296_x_at</td>\n",
              "      <td>13.724726</td>\n",
              "      <td>13.681150</td>\n",
              "      <td>13.887249</td>\n",
              "      <td>13.771470</td>\n",
              "      <td>13.966789</td>\n",
              "      <td>14.064666</td>\n",
              "      <td>13.583540</td>\n",
              "      <td>13.836327</td>\n",
              "      <td>13.844943</td>\n",
              "      <td>...</td>\n",
              "      <td>13.911063</td>\n",
              "      <td>13.706277</td>\n",
              "      <td>13.640640</td>\n",
              "      <td>13.752444</td>\n",
              "      <td>13.908008</td>\n",
              "      <td>13.948781</td>\n",
              "      <td>13.868106</td>\n",
              "      <td>13.796900</td>\n",
              "      <td>14.052307</td>\n",
              "      <td>13.885401</td>\n",
              "    </tr>\n",
              "  </tbody>\n",
              "</table>\n",
              "<p>5 rows × 254 columns</p>\n",
              "</div>\n",
              "    <div class=\"colab-df-buttons\">\n",
              "\n",
              "  <div class=\"colab-df-container\">\n",
              "    <button class=\"colab-df-convert\" onclick=\"convertToInteractive('df-93aa63ca-6332-4784-b967-740d127ff457')\"\n",
              "            title=\"Convert this dataframe to an interactive table.\"\n",
              "            style=\"display:none;\">\n",
              "\n",
              "  <svg xmlns=\"http://www.w3.org/2000/svg\" height=\"24px\" viewBox=\"0 -960 960 960\">\n",
              "    <path d=\"M120-120v-720h720v720H120Zm60-500h600v-160H180v160Zm220 220h160v-160H400v160Zm0 220h160v-160H400v160ZM180-400h160v-160H180v160Zm440 0h160v-160H620v160ZM180-180h160v-160H180v160Zm440 0h160v-160H620v160Z\"/>\n",
              "  </svg>\n",
              "    </button>\n",
              "\n",
              "  <style>\n",
              "    .colab-df-container {\n",
              "      display:flex;\n",
              "      gap: 12px;\n",
              "    }\n",
              "\n",
              "    .colab-df-convert {\n",
              "      background-color: #E8F0FE;\n",
              "      border: none;\n",
              "      border-radius: 50%;\n",
              "      cursor: pointer;\n",
              "      display: none;\n",
              "      fill: #1967D2;\n",
              "      height: 32px;\n",
              "      padding: 0 0 0 0;\n",
              "      width: 32px;\n",
              "    }\n",
              "\n",
              "    .colab-df-convert:hover {\n",
              "      background-color: #E2EBFA;\n",
              "      box-shadow: 0px 1px 2px rgba(60, 64, 67, 0.3), 0px 1px 3px 1px rgba(60, 64, 67, 0.15);\n",
              "      fill: #174EA6;\n",
              "    }\n",
              "\n",
              "    .colab-df-buttons div {\n",
              "      margin-bottom: 4px;\n",
              "    }\n",
              "\n",
              "    [theme=dark] .colab-df-convert {\n",
              "      background-color: #3B4455;\n",
              "      fill: #D2E3FC;\n",
              "    }\n",
              "\n",
              "    [theme=dark] .colab-df-convert:hover {\n",
              "      background-color: #434B5C;\n",
              "      box-shadow: 0px 1px 3px 1px rgba(0, 0, 0, 0.15);\n",
              "      filter: drop-shadow(0px 1px 2px rgba(0, 0, 0, 0.3));\n",
              "      fill: #FFFFFF;\n",
              "    }\n",
              "  </style>\n",
              "\n",
              "    <script>\n",
              "      const buttonEl =\n",
              "        document.querySelector('#df-93aa63ca-6332-4784-b967-740d127ff457 button.colab-df-convert');\n",
              "      buttonEl.style.display =\n",
              "        google.colab.kernel.accessAllowed ? 'block' : 'none';\n",
              "\n",
              "      async function convertToInteractive(key) {\n",
              "        const element = document.querySelector('#df-93aa63ca-6332-4784-b967-740d127ff457');\n",
              "        const dataTable =\n",
              "          await google.colab.kernel.invokeFunction('convertToInteractive',\n",
              "                                                    [key], {});\n",
              "        if (!dataTable) return;\n",
              "\n",
              "        const docLinkHtml = 'Like what you see? Visit the ' +\n",
              "          '<a target=\"_blank\" href=https://colab.research.google.com/notebooks/data_table.ipynb>data table notebook</a>'\n",
              "          + ' to learn more about interactive tables.';\n",
              "        element.innerHTML = '';\n",
              "        dataTable['output_type'] = 'display_data';\n",
              "        await google.colab.output.renderOutput(dataTable, element);\n",
              "        const docLink = document.createElement('div');\n",
              "        docLink.innerHTML = docLinkHtml;\n",
              "        element.appendChild(docLink);\n",
              "      }\n",
              "    </script>\n",
              "  </div>\n",
              "\n",
              "\n",
              "<div id=\"df-a15d8527-5b20-405e-adcd-a26ab0fe3b38\">\n",
              "  <button class=\"colab-df-quickchart\" onclick=\"quickchart('df-a15d8527-5b20-405e-adcd-a26ab0fe3b38')\"\n",
              "            title=\"Suggest charts\"\n",
              "            style=\"display:none;\">\n",
              "\n",
              "<svg xmlns=\"http://www.w3.org/2000/svg\" height=\"24px\"viewBox=\"0 0 24 24\"\n",
              "     width=\"24px\">\n",
              "    <g>\n",
              "        <path d=\"M19 3H5c-1.1 0-2 .9-2 2v14c0 1.1.9 2 2 2h14c1.1 0 2-.9 2-2V5c0-1.1-.9-2-2-2zM9 17H7v-7h2v7zm4 0h-2V7h2v10zm4 0h-2v-4h2v4z\"/>\n",
              "    </g>\n",
              "</svg>\n",
              "  </button>\n",
              "\n",
              "<style>\n",
              "  .colab-df-quickchart {\n",
              "      --bg-color: #E8F0FE;\n",
              "      --fill-color: #1967D2;\n",
              "      --hover-bg-color: #E2EBFA;\n",
              "      --hover-fill-color: #174EA6;\n",
              "      --disabled-fill-color: #AAA;\n",
              "      --disabled-bg-color: #DDD;\n",
              "  }\n",
              "\n",
              "  [theme=dark] .colab-df-quickchart {\n",
              "      --bg-color: #3B4455;\n",
              "      --fill-color: #D2E3FC;\n",
              "      --hover-bg-color: #434B5C;\n",
              "      --hover-fill-color: #FFFFFF;\n",
              "      --disabled-bg-color: #3B4455;\n",
              "      --disabled-fill-color: #666;\n",
              "  }\n",
              "\n",
              "  .colab-df-quickchart {\n",
              "    background-color: var(--bg-color);\n",
              "    border: none;\n",
              "    border-radius: 50%;\n",
              "    cursor: pointer;\n",
              "    display: none;\n",
              "    fill: var(--fill-color);\n",
              "    height: 32px;\n",
              "    padding: 0;\n",
              "    width: 32px;\n",
              "  }\n",
              "\n",
              "  .colab-df-quickchart:hover {\n",
              "    background-color: var(--hover-bg-color);\n",
              "    box-shadow: 0 1px 2px rgba(60, 64, 67, 0.3), 0 1px 3px 1px rgba(60, 64, 67, 0.15);\n",
              "    fill: var(--button-hover-fill-color);\n",
              "  }\n",
              "\n",
              "  .colab-df-quickchart-complete:disabled,\n",
              "  .colab-df-quickchart-complete:disabled:hover {\n",
              "    background-color: var(--disabled-bg-color);\n",
              "    fill: var(--disabled-fill-color);\n",
              "    box-shadow: none;\n",
              "  }\n",
              "\n",
              "  .colab-df-spinner {\n",
              "    border: 2px solid var(--fill-color);\n",
              "    border-color: transparent;\n",
              "    border-bottom-color: var(--fill-color);\n",
              "    animation:\n",
              "      spin 1s steps(1) infinite;\n",
              "  }\n",
              "\n",
              "  @keyframes spin {\n",
              "    0% {\n",
              "      border-color: transparent;\n",
              "      border-bottom-color: var(--fill-color);\n",
              "      border-left-color: var(--fill-color);\n",
              "    }\n",
              "    20% {\n",
              "      border-color: transparent;\n",
              "      border-left-color: var(--fill-color);\n",
              "      border-top-color: var(--fill-color);\n",
              "    }\n",
              "    30% {\n",
              "      border-color: transparent;\n",
              "      border-left-color: var(--fill-color);\n",
              "      border-top-color: var(--fill-color);\n",
              "      border-right-color: var(--fill-color);\n",
              "    }\n",
              "    40% {\n",
              "      border-color: transparent;\n",
              "      border-right-color: var(--fill-color);\n",
              "      border-top-color: var(--fill-color);\n",
              "    }\n",
              "    60% {\n",
              "      border-color: transparent;\n",
              "      border-right-color: var(--fill-color);\n",
              "    }\n",
              "    80% {\n",
              "      border-color: transparent;\n",
              "      border-right-color: var(--fill-color);\n",
              "      border-bottom-color: var(--fill-color);\n",
              "    }\n",
              "    90% {\n",
              "      border-color: transparent;\n",
              "      border-bottom-color: var(--fill-color);\n",
              "    }\n",
              "  }\n",
              "</style>\n",
              "\n",
              "  <script>\n",
              "    async function quickchart(key) {\n",
              "      const quickchartButtonEl =\n",
              "        document.querySelector('#' + key + ' button');\n",
              "      quickchartButtonEl.disabled = true;  // To prevent multiple clicks.\n",
              "      quickchartButtonEl.classList.add('colab-df-spinner');\n",
              "      try {\n",
              "        const charts = await google.colab.kernel.invokeFunction(\n",
              "            'suggestCharts', [key], {});\n",
              "      } catch (error) {\n",
              "        console.error('Error during call to suggestCharts:', error);\n",
              "      }\n",
              "      quickchartButtonEl.classList.remove('colab-df-spinner');\n",
              "      quickchartButtonEl.classList.add('colab-df-quickchart-complete');\n",
              "    }\n",
              "    (() => {\n",
              "      let quickchartButtonEl =\n",
              "        document.querySelector('#df-a15d8527-5b20-405e-adcd-a26ab0fe3b38 button');\n",
              "      quickchartButtonEl.style.display =\n",
              "        google.colab.kernel.accessAllowed ? 'block' : 'none';\n",
              "    })();\n",
              "  </script>\n",
              "</div>\n",
              "\n",
              "    </div>\n",
              "  </div>\n"
            ],
            "application/vnd.google.colaboratory.intrinsic+json": {
              "type": "dataframe",
              "variable_name": "df1"
            }
          },
          "metadata": {},
          "execution_count": 13
        }
      ]
    },
    {
      "cell_type": "code",
      "source": [
        "ND4= df1.loc[\"ND4\"].drop('probeId').to_numpy()\n",
        "ND4_log = np.log10(np.asarray(ND4, dtype=float))\n",
        "plt.hist(ND4_log, bins=10)\n",
        "plt.title('Log Transformed distribution for geneID: ND4')\n",
        "#print(ND4_log)"
      ],
      "metadata": {
        "colab": {
          "base_uri": "https://localhost:8080/",
          "height": 469
        },
        "id": "zl3de5TL5gee",
        "outputId": "7fa91cad-c61f-4857-9293-3169021f293a"
      },
      "execution_count": 14,
      "outputs": [
        {
          "output_type": "execute_result",
          "data": {
            "text/plain": [
              "Text(0.5, 1.0, 'Log Transformed distribution for geneID: ND4')"
            ]
          },
          "metadata": {},
          "execution_count": 14
        },
        {
          "output_type": "display_data",
          "data": {
            "text/plain": [
              "<Figure size 640x480 with 1 Axes>"
            ],
            "image/png": "[encoded data removed]"
          },
          "metadata": {}
        }
      ]
    },
    {
      "cell_type": "code",
      "source": [
        "COX2= df1.loc[\"COX2\"].drop('probeId').to_numpy()\n",
        "COX2_log = np.log10(np.asarray(COX2, dtype=float))\n",
        "plt.hist(COX2_log, bins=10)\n",
        "plt.title('Log Transformed distribution for geneID: COX2')"
      ],
      "metadata": {
        "colab": {
          "base_uri": "https://localhost:8080/",
          "height": 469
        },
        "id": "hsq4DTde55sU",
        "outputId": "0f4b5a59-528a-4249-bebf-79e22cbe07e1"
      },
      "execution_count": 15,
      "outputs": [
        {
          "output_type": "execute_result",
          "data": {
            "text/plain": [
              "Text(0.5, 1.0, 'Log Transformed distribution for geneID: COX2')"
            ]
          },
          "metadata": {},
          "execution_count": 15
        },
        {
          "output_type": "display_data",
          "data": {
            "text/plain": [
              "<Figure size 640x480 with 1 Axes>"
            ],
            "image/png": "[encoded data removed]"
          },
          "metadata": {}
        }
      ]
    },
    {
      "cell_type": "code",
      "source": [
        "ATP6= df1.loc[\"ATP6\"].drop('probeId').to_numpy()\n",
        "ATP6_log = np.log10(np.asarray(ATP6, dtype=float))\n",
        "plt.hist(ATP6_log, bins=10)\n",
        "plt.title('Log Transformed distribution for geneID: ATP6')"
      ],
      "metadata": {
        "colab": {
          "base_uri": "https://localhost:8080/",
          "height": 469
        },
        "id": "CvukBG4-7soh",
        "outputId": "04b538d3-ea74-4601-dbaa-a67179b553ca"
      },
      "execution_count": 16,
      "outputs": [
        {
          "output_type": "execute_result",
          "data": {
            "text/plain": [
              "Text(0.5, 1.0, 'Log Transformed distribution for geneID: ATP6')"
            ]
          },
          "metadata": {},
          "execution_count": 16
        },
        {
          "output_type": "display_data",
          "data": {
            "text/plain": [
              "<Figure size 640x480 with 1 Axes>"
            ],
            "image/png": "[encoded data removed]"
          },
          "metadata": {}
        }
      ]
    },
    {
      "cell_type": "code",
      "source": [
        "COX1= df1.loc[\"COX1\"].drop('probeId').to_numpy()\n",
        "COX1_log = np.log10(np.asarray(COX1, dtype=float))\n",
        "plt.hist(COX1_log, bins=10)\n",
        "plt.title('Log Transformed distribution for geneID: COX1')"
      ],
      "metadata": {
        "colab": {
          "base_uri": "https://localhost:8080/",
          "height": 469
        },
        "id": "6FDEGnOa9pr8",
        "outputId": "c66d2f4f-20bc-48de-b54c-77c208e83b99"
      },
      "execution_count": 17,
      "outputs": [
        {
          "output_type": "execute_result",
          "data": {
            "text/plain": [
              "Text(0.5, 1.0, 'Log Transformed distribution for geneID: COX1')"
            ]
          },
          "metadata": {},
          "execution_count": 17
        },
        {
          "output_type": "display_data",
          "data": {
            "text/plain": [
              "<Figure size 640x480 with 1 Axes>"
            ],
            "image/png": "[encoded data removed]"
          },
          "metadata": {}
        }
      ]
    },
    {
      "cell_type": "code",
      "source": [
        "UBC= df1.loc[\"UBC\"].drop('probeId').to_numpy()\n",
        "UBC_log = np.log10(np.asarray(UBC, dtype=float))\n",
        "plt.hist(UBC_log, bins=10)\n",
        "plt.title('Log Transformed distribution for geneID: UBC')"
      ],
      "metadata": {
        "colab": {
          "base_uri": "https://localhost:8080/",
          "height": 469
        },
        "id": "YVeasZZE9948",
        "outputId": "74ab2fbc-011b-4d3e-e2a4-33110776e58e"
      },
      "execution_count": 18,
      "outputs": [
        {
          "output_type": "execute_result",
          "data": {
            "text/plain": [
              "Text(0.5, 1.0, 'Log Transformed distribution for geneID: UBC')"
            ]
          },
          "metadata": {},
          "execution_count": 18
        },
        {
          "output_type": "display_data",
          "data": {
            "text/plain": [
              "<Figure size 640x480 with 1 Axes>"
            ],
            "image/png": "[encoded data removed]"
          },
          "metadata": {}
        }
      ]
    },
    {
      "cell_type": "code",
      "source": [
        "df1.iloc[:, 1:] = df1.iloc[:, 1:].apply(pd.to_numeric, errors='coerce')\n",
        "\n",
        "# Log-transform all numeric columns except for 'probeId' and 'geneName'\n",
        "df1.iloc[:, 1:] = np.log(df1.iloc[:, 1:])\n",
        "columns_to_skip = ['probeId', 'geneName']\n",
        "numeric_columns = df1.columns.difference(columns_to_skip)\n",
        "df1[numeric_columns] = df1[numeric_columns].apply(pd.to_numeric, errors='coerce')\n",
        "df1[numeric_columns] = np.log(df1[numeric_columns])\n",
        "print(df1)"
      ],
      "metadata": {
        "colab": {
          "base_uri": "https://localhost:8080/"
        },
        "id": "E8fOVXu9_qph",
        "outputId": "cb11c529-174a-44c5-c7b1-6afeb4ca5694"
      },
      "execution_count": 19,
      "outputs": [
        {
          "output_type": "stream",
          "name": "stdout",
          "text": [
            "                probeId        S1        S2        S3        S4        S5  \\\n",
            "geneName                                                                    \n",
            "ND4           224372_at  0.982261  0.983333  0.979976  0.982261  0.980300   \n",
            "COX2       1553570_x_at  0.979543  0.978946  0.978451  0.978714  0.977849   \n",
            "ATP6       1553567_s_at  0.977759  0.984555  0.974979  0.979876  0.974114   \n",
            "COX1       1553538_s_at  0.973960  0.975820  0.973363  0.975986  0.973195   \n",
            "UBC         211296_x_at  0.962869  0.961654  0.967353  0.964166  0.969521   \n",
            "...                 ...       ...       ...       ...       ...       ...   \n",
            "LINC02297    1562223_at  0.001106 -0.019727  0.032589 -0.026427  0.017030   \n",
            "LINC01527  1560760_s_at  0.059106  0.009636  0.007825  0.029372  0.031428   \n",
            "TECRL         241961_at  0.076741 -0.012236 -0.053029 -0.025199  0.008982   \n",
            "ZNF750      219995_s_at  0.039703 -0.031457  0.021064 -0.016182 -0.005090   \n",
            "CLCA3P        220810_at  0.058069  0.038679 -0.021646 -0.073126 -0.028731   \n",
            "\n",
            "                 S6        S7        S8        S9  ...      S244      S245  \\\n",
            "geneName                                           ...                       \n",
            "ND4        0.978663  0.982687  0.980300  0.981760  ...  0.981850  0.982885   \n",
            "COX2       0.975299  0.980247  0.977747  0.978863  ...  0.977747  0.980704   \n",
            "ATP6       0.973803  0.983466  0.973851  0.978337  ...  0.977813  0.978613   \n",
            "COX1       0.969662  0.979440  0.968688  0.975468  ...  0.972227  0.975685   \n",
            "UBC        0.972166  0.958913  0.965956  0.966193  ...  0.968004  0.962355   \n",
            "...             ...       ...       ...       ...  ...       ...       ...   \n",
            "LINC02297  0.016999  0.032257  0.038441  0.015784  ...  0.000203 -0.026639   \n",
            "LINC01527  0.029291 -0.011841  0.086901  0.022922  ...  0.069063  0.010221   \n",
            "TECRL      0.007678 -0.016931  0.044349 -0.010273  ...  0.045078  0.032049   \n",
            "ZNF750    -0.017725  0.031306  0.029952  0.018603  ...  0.087761  0.048899   \n",
            "CLCA3P    -0.014339 -0.064681  0.014989 -0.010273  ...  0.006605  0.002281   \n",
            "\n",
            "               S246      S247      S248      S249      S250      S251  \\\n",
            "geneName                                                                \n",
            "ND4        0.983014  0.981187  0.979440  0.983060  0.982816  0.983992   \n",
            "COX2       0.980924  0.978913  0.972206  0.978794  0.975817  0.978820   \n",
            "ATP6       0.981018  0.980068  0.968574  0.978200  0.974608  0.979624   \n",
            "COX1       0.976134  0.975274  0.966907  0.976008  0.963876  0.973431   \n",
            "UBC        0.960519  0.963639  0.967921  0.969032  0.966829  0.964869   \n",
            "...             ...       ...       ...       ...       ...       ...   \n",
            "LINC02297  0.101031  0.058562  0.042556  0.009795  0.022856  0.018944   \n",
            "LINC01527  0.065901  0.018357  0.025206  0.012736  0.084239  0.054186   \n",
            "TECRL      0.091587  0.020602  0.021024  0.015241  0.042053  0.087160   \n",
            "ZNF750     0.006931  0.001413 -0.007642 -0.013978  0.032922  0.105591   \n",
            "CLCA3P    -0.051623  0.034634  0.006620  0.033501 -0.018170  0.000785   \n",
            "\n",
            "               S252      S253  \n",
            "geneName                       \n",
            "ND4        0.977922  0.983147  \n",
            "COX2       0.974188  0.979487  \n",
            "ATP6       0.969121  0.979527  \n",
            "COX1       0.965737  0.971548  \n",
            "UBC        0.971834  0.967302  \n",
            "...             ...       ...  \n",
            "LINC02297  0.033329  0.030584  \n",
            "LINC01527  0.044046 -0.034996  \n",
            "TECRL     -0.036215  0.019527  \n",
            "ZNF750     0.051404  0.065218  \n",
            "CLCA3P    -0.017603  0.020163  \n",
            "\n",
            "[20864 rows x 254 columns]\n"
          ]
        }
      ]
    },
    {
      "cell_type": "code",
      "source": [
        "# Assuming you have the sample-wise correlation matrix named 'sample_wise_correlation'\n",
        "\n",
        "# Create a heatmap\n",
        "sample_wise_correlation = df1.iloc[:, 1:].T.corr()\n",
        "\n",
        "print(sample_wise_correlation)\n",
        "# sns.heatmap(sample_wise_correlation, cmap='coolwarm', annot=True, fmt=\".2f\")\n",
        "\n",
        "# Set plot properties\n",
        "# plt.title('Sample-wise Correlation Heatmap')\n",
        "# plt.xlabel('Samples')\n",
        "# plt.ylabel('Samples')\n",
        "\n",
        "# # Show the plot\n",
        "# plt.show()"
      ],
      "metadata": {
        "id": "oKF616jaJlZl",
        "colab": {
          "base_uri": "https://localhost:8080/",
          "height": 332
        },
        "outputId": "8d57e22a-dcf9-4ca2-b99b-cb9d95900938"
      },
      "execution_count": 20,
      "outputs": [
        {
          "output_type": "error",
          "ename": "KeyboardInterrupt",
          "evalue": "",
          "traceback": [
            "\u001b[0;31m---------------------------------------------------------------------------\u001b[0m",
            "\u001b[0;31mKeyboardInterrupt\u001b[0m                         Traceback (most recent call last)",
            "\u001b[0;32m<ipython-input-20-cb6f734f82b3>\u001b[0m in \u001b[0;36m<cell line: 4>\u001b[0;34m()\u001b[0m\n\u001b[1;32m      2\u001b[0m \u001b[0;34m\u001b[0m\u001b[0m\n\u001b[1;32m      3\u001b[0m \u001b[0;31m# Create a heatmap\u001b[0m\u001b[0;34m\u001b[0m\u001b[0;34m\u001b[0m\u001b[0m\n\u001b[0;32m----> 4\u001b[0;31m \u001b[0msample_wise_correlation\u001b[0m \u001b[0;34m=\u001b[0m \u001b[0mdf1\u001b[0m\u001b[0;34m.\u001b[0m\u001b[0miloc\u001b[0m\u001b[0;34m[\u001b[0m\u001b[0;34m:\u001b[0m\u001b[0;34m,\u001b[0m \u001b[0;36m1\u001b[0m\u001b[0;34m:\u001b[0m\u001b[0;34m]\u001b[0m\u001b[0;34m.\u001b[0m\u001b[0mT\u001b[0m\u001b[0;34m.\u001b[0m\u001b[0mcorr\u001b[0m\u001b[0;34m(\u001b[0m\u001b[0;34m)\u001b[0m\u001b[0;34m\u001b[0m\u001b[0;34m\u001b[0m\u001b[0m\n\u001b[0m\u001b[1;32m      5\u001b[0m \u001b[0;34m\u001b[0m\u001b[0m\n\u001b[1;32m      6\u001b[0m \u001b[0mprint\u001b[0m\u001b[0;34m(\u001b[0m\u001b[0msample_wise_correlation\u001b[0m\u001b[0;34m)\u001b[0m\u001b[0;34m\u001b[0m\u001b[0;34m\u001b[0m\u001b[0m\n",
            "\u001b[0;32m/usr/local/lib/python3.10/dist-packages/pandas/core/frame.py\u001b[0m in \u001b[0;36mcorr\u001b[0;34m(self, method, min_periods, numeric_only)\u001b[0m\n\u001b[1;32m  10308\u001b[0m \u001b[0;34m\u001b[0m\u001b[0m\n\u001b[1;32m  10309\u001b[0m         \u001b[0;32mif\u001b[0m \u001b[0mmethod\u001b[0m \u001b[0;34m==\u001b[0m \u001b[0;34m\"pearson\"\u001b[0m\u001b[0;34m:\u001b[0m\u001b[0;34m\u001b[0m\u001b[0;34m\u001b[0m\u001b[0m\n\u001b[0;32m> 10310\u001b[0;31m             \u001b[0mcorrel\u001b[0m \u001b[0;34m=\u001b[0m \u001b[0mlibalgos\u001b[0m\u001b[0;34m.\u001b[0m\u001b[0mnancorr\u001b[0m\u001b[0;34m(\u001b[0m\u001b[0mmat\u001b[0m\u001b[0;34m,\u001b[0m \u001b[0mminp\u001b[0m\u001b[0;34m=\u001b[0m\u001b[0mmin_periods\u001b[0m\u001b[0;34m)\u001b[0m\u001b[0;34m\u001b[0m\u001b[0;34m\u001b[0m\u001b[0m\n\u001b[0m\u001b[1;32m  10311\u001b[0m         \u001b[0;32melif\u001b[0m \u001b[0mmethod\u001b[0m \u001b[0;34m==\u001b[0m \u001b[0;34m\"spearman\"\u001b[0m\u001b[0;34m:\u001b[0m\u001b[0;34m\u001b[0m\u001b[0;34m\u001b[0m\u001b[0m\n\u001b[1;32m  10312\u001b[0m             \u001b[0mcorrel\u001b[0m \u001b[0;34m=\u001b[0m \u001b[0mlibalgos\u001b[0m\u001b[0;34m.\u001b[0m\u001b[0mnancorr_spearman\u001b[0m\u001b[0;34m(\u001b[0m\u001b[0mmat\u001b[0m\u001b[0;34m,\u001b[0m \u001b[0mminp\u001b[0m\u001b[0;34m=\u001b[0m\u001b[0mmin_periods\u001b[0m\u001b[0;34m)\u001b[0m\u001b[0;34m\u001b[0m\u001b[0;34m\u001b[0m\u001b[0m\n",
            "\u001b[0;31mKeyboardInterrupt\u001b[0m: "
          ]
        }
      ]
    },
    {
      "cell_type": "code",
      "source": [
        "from sklearn.preprocessing import StandardScaler\n",
        "\n",
        "df1_transposed = df1.transpose()\n",
        "\n",
        "scaler = StandardScaler()\n",
        "df1_transposed.iloc[1:, :] = scaler.fit_transform(df1_transposed.iloc[1:, :])\n",
        "df1 = df1_transposed.transpose()\n",
        "print(df1)"
      ],
      "metadata": {
        "id": "Ro-BmD20dEjc"
      },
      "execution_count": null,
      "outputs": []
    },
    {
      "cell_type": "code",
      "source": [
        "!pip install fancyimpute"
      ],
      "metadata": {
        "id": "DG-XtouDaJZY"
      },
      "execution_count": null,
      "outputs": []
    },
    {
      "cell_type": "code",
      "source": [
        "from fancyimpute import KNN\n",
        "\n",
        "# Assuming df1 is your DataFrame after the log transformation and initial imputation\n",
        "# Define the columns to skip for imputation\n",
        "columns_to_skip = ['probeId', 'geneName']\n",
        "\n",
        "# Extract numeric columns for imputation\n",
        "numeric_columns = df1.columns.difference(columns_to_skip)\n",
        "\n",
        "# kNN sample-wise imputation\n",
        "df1_sample_imputed = df1.copy()\n",
        "df1_sample_imputed[numeric_columns] = KNN(k=5).fit_transform(df1[numeric_columns])\n",
        "\n",
        "# kNN group-wise imputation\n",
        "# Assuming 'group_column' is the column by which you want to group the data\n",
        "group_column = 'group_column'\n",
        "df1_group_imputed = df1.copy()\n",
        "df1_group_imputed[numeric_columns] = df1_group_imputed.groupby(group_column)[numeric_columns].apply(lambda group: KNN(k=5).fit_transform(group))\n",
        "\n",
        "# Print the DataFrames after imputation\n",
        "print(\"DataFrame after kNN sample-wise imputation:\")\n",
        "print(df1_sample_imputed)\n",
        "\n",
        "print(\"\\nDataFrame after kNN group-wise imputation:\")\n",
        "print(df1_group_imputed)"
      ],
      "metadata": {
        "id": "DotUjV3VRQV-"
      },
      "execution_count": null,
      "outputs": []
    },
    {
      "cell_type": "code",
      "source": [
        "total_missing_values = df1.isnull().sum()\n",
        "\n",
        "# Display the total number of missing values\n",
        "print(\"Total number of missing values in the DataFrame:\", total_missing_values)"
      ],
      "metadata": {
        "id": "jwQueAE5PXbS"
      },
      "execution_count": null,
      "outputs": []
    },
    {
      "cell_type": "code",
      "source": [
        "!pip install qnorm"
      ],
      "metadata": {
        "id": "ZVj3zWidS-jk"
      },
      "execution_count": null,
      "outputs": []
    },
    {
      "cell_type": "code",
      "source": [],
      "metadata": {
        "id": "1hAJJtqrWBQV"
      },
      "execution_count": null,
      "outputs": []
    },
    {
      "cell_type": "code",
      "source": [
        "columns_to_skip = ['probeId', 'geneName']\n",
        "numeric_columns = df1.columns.difference(columns_to_skip)\n",
        "df1_quantile_normalized = df1[numeric_columns].copy()\n",
        "rank_mean = df1_quantile_normalized.stack().groupby(df1_quantile_normalized.rank(\n",
        "    method='first').stack().astype(int)).mean()\n",
        "df1_quantile_normalized.rank(method='min').stack().astype(int).map(rank_mean).unstack()"
      ],
      "metadata": {
        "id": "nJBshhZsQD0w"
      },
      "execution_count": null,
      "outputs": []
    },
    {
      "cell_type": "code",
      "source": [
        "UBC= df1_quantile_normalized.loc[\"UBC\"].to_numpy()\n",
        "plt.hist(UBC_log, bins=10)\n",
        "plt.title('Quantile Normalization for : UBC')"
      ],
      "metadata": {
        "id": "LeseMxd_XsFA"
      },
      "execution_count": null,
      "outputs": []
    },
    {
      "cell_type": "code",
      "source": [
        "numeric_columns = df1.columns.difference(columns_to_skip)\n",
        "df1_median_normalized = df1[numeric_columns].copy()\n",
        "\n",
        "# Median normalization function\n",
        "def median_normalize(data):\n",
        "    return data.apply(lambda x: (x - x.median()) / (x.max() - x.min()) if (x.max() - x.min()) != 0 else x)\n",
        "\n",
        "# Apply Median Normalization to numeric columns\n",
        "df1_median_normalized[numeric_columns] = median_normalize(df1_median_normalized[numeric_columns])\n",
        "\n",
        "# Display the DataFrame after Median Normalization\n",
        "print(\"DataFrame after Median Normalization:\")\n",
        "df1_median_normalized"
      ],
      "metadata": {
        "id": "9vyM35JESclL"
      },
      "execution_count": null,
      "outputs": []
    },
    {
      "cell_type": "code",
      "source": [
        "ATP6= df1_median_normalized.loc[\"ATP6\"].to_numpy()\n",
        "plt.hist(ATP6, bins=10)\n",
        "plt.title('Mean Normalization for : ATP6')"
      ],
      "metadata": {
        "id": "HKMYRKjsXRVJ"
      },
      "execution_count": null,
      "outputs": []
    },
    {
      "cell_type": "code",
      "source": [
        "ND4= df1_median_normalized.loc[\"ND4\"].to_numpy()\n",
        "plt.hist(ND4, bins=10)\n",
        "plt.title('Standard Scaling for : ND4')"
      ],
      "metadata": {
        "id": "hABHI6FEYBDD"
      },
      "execution_count": null,
      "outputs": []
    },
    {
      "cell_type": "code",
      "source": [
        "!pip install scipy"
      ],
      "metadata": {
        "id": "VwC1zWkeZ8WY"
      },
      "execution_count": null,
      "outputs": []
    },
    {
      "cell_type": "code",
      "source": [
        "from sklearn.preprocessing import MinMaxScaler\n",
        "\n",
        "# Extract numeric columns for scaling\n",
        "numeric_columns = df1.columns.difference(columns_to_skip)\n",
        "df1_scaled_minmax = df1[numeric_columns].copy()\n",
        "df1_scaled_median_mad = df1[numeric_columns].copy()\n",
        "\n",
        "# Min-Max Scaling\n",
        "scaler = MinMaxScaler()\n",
        "df1_scaled_minmax[numeric_columns] = scaler.fit_transform(df1_scaled_minmax[numeric_columns])\n",
        "\n",
        "# Median Absolute Deviation (MAD) Scaling\n",
        "\n",
        "# Display the DataFrames after scaling\n",
        "print(\"DataFrame after Min-Max Scaling:\")\n",
        "print(df1_scaled_minmax)\n",
        "\n",
        "print(\"\\nDataFrame after Median MAD Scaling:\")\n"
      ],
      "metadata": {
        "id": "9JZZDFNiZKe8"
      },
      "execution_count": null,
      "outputs": []
    },
    {
      "cell_type": "code",
      "source": [
        "ND4= df1_scaled_minmax.loc[\"ND4\"].to_numpy()\n",
        "plt.hist(ND4, bins=10)\n",
        "plt.title('Min Max Scaling : ND4')"
      ],
      "metadata": {
        "id": "Bl054dUYZ3Ch"
      },
      "execution_count": null,
      "outputs": []
    },
    {
      "cell_type": "code",
      "source": [
        "from sklearn.decomposition import PCA, FastICA\n",
        "import matplotlib.pyplot as plt\n",
        "\n",
        "# Assuming df1 is your DataFrame\n",
        "# Extract numeric columns for analysis\n",
        "numeric_columns = df1.columns.difference(columns_to_skip)\n",
        "df1_analysis = df1[numeric_columns].transpose().copy()\n",
        "\n",
        "print(len(df1_analysis.columns))\n",
        "\n",
        "# PCA\n",
        "pca = PCA(n_components = 0.95)  # Adjust the number of components as needed\n",
        "df1_pca_result = pca.fit_transform(df1_analysis)\n",
        "num_features_left_pca = pca.n_components_\n",
        "print(\"Number of features left after PCA:\", num_features_left_pca)\n",
        "plt.scatter(df1_pca_result[:, 0], df1_pca_result[:, 1])\n",
        "plt.title('PCA')\n",
        "plt.show()\n",
        "\n",
        "# ICA\n",
        "ica = FastICA(n_components = 0.95)  # Adjust the number of components as needed\n",
        "df1_ica_result = ica.fit_transform(df1_analysis)\n",
        "plt.scatter(df1_ica_result[:, 0], df1_ica_result[:, 1])\n",
        "plt.title('ICA')\n",
        "plt.show()\n"
      ],
      "metadata": {
        "id": "5rnoCfkRanac"
      },
      "execution_count": null,
      "outputs": []
    },
    {
      "cell_type": "code",
      "source": [],
      "metadata": {
        "id": "6Uji7rHfbgu4"
      },
      "execution_count": null,
      "outputs": []
    }
  ]
}